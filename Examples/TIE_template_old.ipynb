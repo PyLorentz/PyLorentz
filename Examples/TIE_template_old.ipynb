{
 "cells": [
  {
   "cell_type": "markdown",
   "metadata": {},
   "source": [
    "# TIE Reconstruction Template\n",
    "In this notebook we demonstrate solving the transport of intensity equation (TIE) and finding magnetic induction from an experimental through focal series (tfs) of TEM images. For more information please check out our [wiki/documentation pages](https://pylorentztem.readthedocs.io/en/latest/). \n",
    "\n",
    "If you have never used a Jupyter Notebook before we recommend familiarizing yourself with the [notebook basics](https://jupyter-notebook.readthedocs.io/en/stable/examples/Notebook/Notebook%20Basics.html). While Python knowledge is not strictly required for running PyLorentz code, a certain familiarity is helpful for understanding how to modify the examples to suit your needs. \n",
    "\n",
    "This notebook is ready to be run as-is. The first time, however, you will need to download the example data. This can be done through the notebook and is demonstrated below. Cells can be executed by selecting and pressing ``shift + enter``, and you can proceed with running all of the cells in order. The python docstrings for these functions can be found on the wiki, but are also viewable in Jupyter. E.g. for the TIE() function, executing a cell containing: `?TIE` will pull up the documentation for that function. \n",
    "\n",
    "All of the features available in this notebook are also available in the TIE GUI, which additionally contains processes for aligning experimental datasets. For details on running that please refer to the README in the ``Pylorentz/GUI/`` directory. \n",
    "  \n",
    "Authors: Arthur McCray, CD Phatak  \n",
    "V1.0, ANL, July 2020"
   ]
  },
  {
   "cell_type": "markdown",
   "metadata": {},
   "source": [
    "### Importing the necessary modules"
   ]
  },
  {
   "cell_type": "code",
   "execution_count": null,
   "metadata": {},
   "outputs": [],
   "source": [
    "%matplotlib widget\n",
    "from PyLorentz.utils.microscopes import Microscope\n",
    "from PyLorentz.utils.TIE_helper import *\n",
    "from PyLorentz.tie.TIE_reconstruct import TIE\n",
    "\n",
    "from PyLorentz.io.io import load_data\n",
    "from PyLorentz.visualize import show_im, show_stack, show_2D"
   ]
  },
  {
   "attachments": {},
   "cell_type": "markdown",
   "metadata": {},
   "source": [
    "This first section shows how to download example data from the [Materials Data Facility](https://doi.org/10.18126/z9tc-i8bf). This experimental dataset contains a full through focus series (tfs) of an artificial spin ice structure with the sample in both flipped and unflipped orientations. \n",
    "\n",
    "There seems to be a bug(s) in the mdf_forge package, and downloading in-notebook currently isn't working. For now we recoomend downloading the data with globus from the [data page](https://doi.org/10.18126/z9tc-i8bf). Click \"Globus\" under \"Get the Data\" and download using their online app. Place the downloaded `cphatak_pytie_example_v1.1` in the `PyLorentz/Examples/` directory.\n"
   ]
  },
  {
   "attachments": {},
   "cell_type": "markdown",
   "metadata": {},
   "source": [
    "#### old method\n",
    "If the mdf-forge package is working, you will be able to run the following cell and download the data directly. \n",
    "The files will be placed in `Examples/cphatak_pytie_example_v1.1/`, and you only need to run this following cell the first time through the notebook. Incidentally there seems to be a bug in the mdf-forge package and the progress bar doesn't move, but it generally takes ~5-10 minutes for the download depending on your internet speed. \n",
    "\n",
    "If you are having trouble downloading the data please make sure \n",
    "* You have a Globus endpoint on your computer\n",
    "* You have Globus Connect running\n",
    "\n",
    "If it still isn't working you can download the data with globus from the [data page](https://doi.org/10.18126/z9tc-i8bf). Click \"Globus\" under \"Get the Data\" and download using their online app. "
   ]
  },
  {
   "cell_type": "code",
   "execution_count": null,
   "metadata": {
    "scrolled": true
   },
   "outputs": [],
   "source": [
    "### buggy, download directly instead\n",
    "# from mdf_forge import Forge\n",
    "# mdf = Forge()\n",
    "\n",
    "# # Match the dataset by title and only collect \"dataset\" resource types\n",
    "# res = mdf.match_resource_types('dataset').match_titles('pytie').search()\n",
    "\n",
    "# # Download the data using Globus\n",
    "# mdf.globus_download(res, download_datasets=True)"
   ]
  },
  {
   "cell_type": "markdown",
   "metadata": {},
   "source": [
    "## Loading the data into PyTIE\n",
    "Now that we have our data on the computer, we need to load it into PyTIE with the `load_data()` function. We set a few parameters here: \n",
    "\n",
    "- path (str): We specify the filepath as the one created with the example data.\n",
    "- fls_file (str): The name of the .fls file, which itself contains the image filenames and defocus values. \n",
    "- flip_fls_file (str): We explicitly show that there isn't a flip fls file, though this could be omitted as it's the default value. \n",
    "- al_file (str): The name of the aligned image file. \n",
    "- flip (bool): Whether or not there is a flip tfs along with the unflip. "
   ]
  },
  {
   "cell_type": "code",
   "execution_count": null,
   "metadata": {
    "scrolled": false
   },
   "outputs": [],
   "source": [
    "data_loc = './cphatak_pytie_example_v1.1/'\n",
    "fls_name = \"dataset1.fls\"\n",
    "flip_fls_name = None # just one fls file\n",
    "stack_name = 'd1_full_align.tif'\n",
    "flip = True # there is/isn't a flipped tfs and flipstack\n",
    "\n",
    "imstack, flipstack, ptie = load_data(path=data_loc,\n",
    "                                     fls_file=fls_name,\n",
    "                                     flip_fls_file=flip_fls_name,\n",
    "                                     al_file=stack_name,\n",
    "                                     flip=flip)\n",
    "\n",
    "print(\"Defocus values: \", ptie.defvals, \"nm\")\n",
    "# create microscope object:\n",
    "#Only relevant parameter for TIE reconstruction is accelerating voltage.\n",
    "pscope = Microscope(E=200e3)"
   ]
  },
  {
   "cell_type": "markdown",
   "metadata": {},
   "source": [
    "Now view the masked infocus image.\n"
   ]
  },
  {
   "cell_type": "code",
   "execution_count": null,
   "metadata": {},
   "outputs": [],
   "source": [
    "show_im(ptie.infocus, title='Masked infocus image', scale=ptie.scale, cbar_title=\"Intensity Values\")"
   ]
  },
  {
   "cell_type": "code",
   "execution_count": null,
   "metadata": {
    "code_folding": []
   },
   "outputs": [],
   "source": [
    "# Scroll through and view the aligned images\n",
    "all_defvals_um = np.sort(np.concatenate([ptie.defvals/1e3, [0], -1*ptie.defvals/1e3]))\n",
    "titles = [f\"{df:.0f} um\" for df in all_defvals_um] + [f\"flip {df:.0f} um\" for df in all_defvals_um]\n",
    "show_stack(np.concatenate([imstack, flipstack]), titles=titles)"
   ]
  },
  {
   "attachments": {},
   "cell_type": "markdown",
   "metadata": {},
   "source": [
    "## Select a smaller image size (optional)\n",
    "There may be times when you would want to only reconstruct part of an image, e.g. because a window edge introduces a high-contrast edge that interferes with the reconstruction. Although this is available here in the Jupyter notebook, it is somewhat finnicky. We recommend using the GUI if you want easier region selection, as it also allows for rotating the images. \n",
    "  \n",
    "* If you choose a non-square subregion, the results are no longer quantitative. Qualitatively they will appear correct except beyond aspect ratios of ~3:1, where Fourier edge effects become more prominent. These can be reduced by symmetrizing the image.  \n",
    "* Click to place the upper left and lower right corner of the region. You can also delete one or both of the corners before placing them, but this can be laggy. \n",
    "* Exiting select_ROI() (with `esc`) while one or both points are selected will reset the ROI to the full image. This can also be done with ptie.reset_crop(). \n",
    "* The corners of the ROI are stored in ptie.crop, and can be set individually in pixels, e.g. >>ptie.crop[\"left\"] = 100 "
   ]
  },
  {
   "cell_type": "code",
   "execution_count": null,
   "metadata": {},
   "outputs": [],
   "source": [
    "ptie.select_ROI()"
   ]
  },
  {
   "cell_type": "code",
   "execution_count": null,
   "metadata": {},
   "outputs": [],
   "source": [
    "show_stack(np.concatenate([ptie.imstack, ptie.flipstack]), ptie, titles=titles)"
   ]
  },
  {
   "attachments": {},
   "cell_type": "markdown",
   "metadata": {},
   "source": [
    "## The actual phase reconstruction\n",
    "Here we perform the TIE reconstruction. The following parameters are set: \n",
    "\n",
    "* Set which focus values you want to use with index i \n",
    "* images will be saved as /dataloc/images/dataname_focusval_imagename.tif\n",
    "* if you want to symmetrize the images set sym = True. \n",
    "    - This is primarily helpful if reconstructing images where one or more dimensions is an nearly prime number of pixels or if the aspect ratio of the reconstructed region is far from 1. \n",
    "* if you want to run with a Tikhonov frequency\n",
    "    - qc = XX, allows you to input a frequency value in 1/nm\n",
    "    - qc = None and it will run without a filter\n",
    "* Save options:  \n",
    "    - True    -- saves all images results directory\n",
    "    - 'b'     -- saves 'color_b', 'bxt', 'byt'\n",
    "    - 'color' -- saves just 'color_b'\n",
    "    - False   -- Does not save images, but they can still be viewed in the notebook\n",
    "    - If any images are saved, a dataname_params.txt file will be saved as well giving reconstruction parameters. "
   ]
  },
  {
   "cell_type": "code",
   "execution_count": null,
   "metadata": {},
   "outputs": [],
   "source": [
    "print('Defocus values: ±', ptie.defvals)\n",
    "print('reconstruct with i = ', '    0    ', '   1   ', '     2 ...')"
   ]
  },
  {
   "cell_type": "code",
   "execution_count": null,
   "metadata": {
    "scrolled": false
   },
   "outputs": [],
   "source": [
    "i = 2 # Select which defocus value you'll be working with if 3-point deriv\n",
    "dataname = 'example_TIE'# str\n",
    "sym = False # bool\n",
    "qc = 0.0001# False # a tikhonov filter isn't necessary for this data\n",
    "save = False # str or bool\n",
    "print(f'Set to reconstruct for defocus values: ± {ptie.defvals[i]} nm ')"
   ]
  },
  {
   "cell_type": "code",
   "execution_count": null,
   "metadata": {
    "scrolled": false
   },
   "outputs": [],
   "source": [
    "results = TIE(i, ptie, pscope,\n",
    "                     dataname = dataname,\n",
    "                     sym=sym,\n",
    "                     qc = qc,\n",
    "                     save=save,\n",
    "                     )"
   ]
  },
  {
   "attachments": {},
   "cell_type": "markdown",
   "metadata": {},
   "source": [
    "## Viewing the images\n",
    "You can of course just look at the data where it's saved, but if you don't want to save it and move it to a local computer you can view the images here, as they're all in the results dictionary. \n",
    "* Results: \n",
    "    - 'byt' : y-component of integrated magnetic induction,\n",
    "    - 'bxt' : x-component of integrated magnetic induction,\n",
    "    - 'bbt' : magnitude of integrated magnetic induction, \n",
    "    - 'phase_b' : magnetic phase shift (radians),\n",
    "    - 'phase_e' : electrostatic phase shift (if using flip stack) (radians),\n",
    "    - 'dIdZ_b' : intensity derivative for calculating phase_m, (useful for troubleshooting)\n",
    "    - 'dIdZ_e' : intensity derivative for calculating phase_e (if using flip stack), \n",
    "    - 'color_b' : RGB image of magnetic induction,\n",
    "    - 'inf_im' : the in-focus image"
   ]
  },
  {
   "cell_type": "code",
   "execution_count": null,
   "metadata": {},
   "outputs": [],
   "source": [
    "show_im(results['phase_b'], title='magnetic phase shift', scale=ptie.scale,\n",
    "        cbar_title=\"Radians\")"
   ]
  },
  {
   "cell_type": "code",
   "execution_count": null,
   "metadata": {},
   "outputs": [],
   "source": [
    "show_im(results['phase_e'], 'electrostatic phase shift',scale=ptie.scale,\n",
    "        cbar_title=\"Radians\")"
   ]
  },
  {
   "cell_type": "markdown",
   "metadata": {},
   "source": [
    "Show the integrated induction vector map with a variety of color schemes: \n",
    "- Most of the colormaps are found in the [colorcet package](https://colorcet.holoviz.org/user_guide/Continuous.html#cyclic-colormaps)\n",
    "    - \"4fold\"\n",
    "    - \"legacy4fold\"\n",
    "    - \"hsv\" (equivalent to \"sixfold\", default)\n",
    "    - \"legacyhsv\" (equivalent to \"purehsv\", not a great choice for most situations)\n",
    "    - \"iso\" (a 4-fold isoluminscent colormap)  \n",
    "\n",
    "You can also pass a colormap object in to the cmap argument\n"
   ]
  },
  {
   "cell_type": "code",
   "execution_count": null,
   "metadata": {},
   "outputs": [],
   "source": [
    "show_2D(results['bxt'], results['byt'], title=\"Magnetic induction with four-fold colormap\",\n",
    "        cmap='default')\n"
   ]
  },
  {
   "attachments": {},
   "cell_type": "markdown",
   "metadata": {},
   "source": [
    "Show a vector plot of the magnetic induction over the colormap image. The arrows size is fixed so you will have to zoom in to see them. There are a few parameters required to have the vectormap look good. \n",
    "- a (int): Number of arrows to show in the x and y directions\n",
    "- l (float): Scale factor of arrows. Larger l -> shorter arrows. \n",
    "- w (float): Width scaling of arrows.\n",
    "- title (str): (*optional*) Title for plot. Default None. \n",
    "- color (bool): (*optional*) Whether or not to show a colormap underneath the arrow plot.\n",
    "- hsv (bool): (*optional*) Only relevant if color == True. Whether to use an hsv or 4-fold colorwheel in the color image. \n",
    "- origin (str): (*optional*) Control image orientation. \n",
    "- save (str): (*optional*) Path to save the figure. "
   ]
  },
  {
   "cell_type": "code",
   "execution_count": null,
   "metadata": {
    "scrolled": false
   },
   "outputs": [],
   "source": [
    "show_2D(results['bxt'], results['byt'], a=40, l=1, w=4, title='Arrow overlay image', color=True, cmap='default',\n",
    "        origin='upper')#, save = ptie.data_loc+'images/arrow_colormap.png')"
   ]
  },
  {
   "cell_type": "markdown",
   "metadata": {},
   "source": [
    "### Single Image Reconstruction (SITIE)\n",
    "Uniformly thin magnetic samples can be reconstructed from a single defocused image if their only source of contrast is magnetic Fresnel contrast. As this sample is an island structure that is not the case, and we require two TFS to reconstruct the phase. For an example of SITIE on simulated data please refer to SIM_template.ipynb"
   ]
  },
  {
   "cell_type": "markdown",
   "metadata": {},
   "source": [
    "--- end notebook ---"
   ]
  }
 ],
 "metadata": {
  "kernelspec": {
   "display_name": "PyLorentz",
   "language": "python",
   "name": "python3"
  },
  "language_info": {
   "codemirror_mode": {
    "name": "ipython",
    "version": 3
   },
   "file_extension": ".py",
   "mimetype": "text/x-python",
   "name": "python",
   "nbconvert_exporter": "python",
   "pygments_lexer": "ipython3",
   "version": "3.12.4"
  },
  "latex_envs": {
   "LaTeX_envs_menu_present": true,
   "autoclose": false,
   "autocomplete": true,
   "bibliofile": "biblio.bib",
   "cite_by": "apalike",
   "current_citInitial": 1,
   "eqLabelWithNumbers": true,
   "eqNumInitial": 1,
   "hotkeys": {
    "equation": "Ctrl-E",
    "itemize": "Ctrl-I"
   },
   "labels_anchors": false,
   "latex_user_defs": false,
   "report_style_numbering": false,
   "user_envs_cfg": false
  },
  "notify_time": "30",
  "varInspector": {
   "cols": {
    "lenName": 16,
    "lenType": 16,
    "lenVar": 40
   },
   "kernels_config": {
    "python": {
     "delete_cmd_postfix": "",
     "delete_cmd_prefix": "del ",
     "library": "var_list.py",
     "varRefreshCmd": "print(var_dic_list())"
    },
    "r": {
     "delete_cmd_postfix": ") ",
     "delete_cmd_prefix": "rm(",
     "library": "var_list.r",
     "varRefreshCmd": "cat(var_dic_list()) "
    }
   },
   "position": {
    "height": "185.85px",
    "left": "1550px",
    "right": "20px",
    "top": "120px",
    "width": "350px"
   },
   "types_to_exclude": [
    "module",
    "function",
    "builtin_function_or_method",
    "instance",
    "_Feature"
   ],
   "window_display": false
  },
  "vscode": {
   "interpreter": {
    "hash": "1afaa721f712f88a70af01efb0e886afce9a3b89259be54a8c7ef891ab712a18"
   }
  }
 },
 "nbformat": 4,
 "nbformat_minor": 2
}
