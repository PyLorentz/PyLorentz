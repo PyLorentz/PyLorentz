{
 "cells": [
  {
   "cell_type": "markdown",
   "metadata": {},
   "source": [
    "# Getting started\n",
    "With the exception of the gui, the PyLorentz code is intended to be run in Jupyter notebooks and several examples are provided. You can clone the repo from the [github page](https://github.com/PyLorentz/PyLorentz), fork the project, or download the files directly in a .zip. \n",
    "\n",
    "\n",
    "Several standard packages are required which can be installed with conda or pip, and .yml files are included in the ``/envs/`` folder. Select the appropriate file for your system and create the environment from a command line with:\n",
    "    \n",
    "    >>> conda env create -f environment.yml\n",
    "    \n",
    "Activate with either:  \n",
    "\n",
    "    >>> source activate PyLorentz\n",
    "    \n",
    "or:\n",
    "\n",
    "    >>> conda activate PyLorentz\n",
    "\n",
    "depending on operating system before opening a notebook. "
   ]
  },
  {
   "cell_type": "markdown",
   "metadata": {},
   "source": [
    "## Example Data\n",
    "\n",
    "We recommend running the template files provided in the ``/Examples/`` directory with the provided example data. The PyTIE template will show you how to download an experimental dataset from the [Materials Data Facility](https://doi.org/10.18126/z9tc-i8bf), which contains a through focus series (tfs) in both flipped and unflipped orientations as well as an aligned image stack. These files are ready to be used in the ``TIE_template.ipynb``. \n",
    "\n",
    "For ``SIM_template.ipynb``, there is an ``example_mumax.ovf`` file already in the repository, which can be used directly. "
   ]
  },
  {
   "cell_type": "markdown",
   "metadata": {},
   "source": [
    "## Data Organization\n",
    "PyTIE requires all of the image data to be contained within one main working directory. The exact setup will depend on if you have one single through focus series (tfs) or two. \n",
    "\n",
    "If you have both a flip and unflip stack your data should be set up as follows:\n",
    "\n",
    "    datafolder/    flip/     -im1.dm3  \n",
    "                             -im2.dm3  \n",
    "                                ...  \n",
    "                             +im1.dm3  \n",
    "                             +im2.dm3  \n",
    "                                ...  \n",
    "                             0im.dm3    \n",
    "                             \n",
    "                   unflip/   -im1.dm3  \n",
    "                             -im2.dm3  \n",
    "                                 .  \n",
    "                                 .  \n",
    "                             +im1.dm3  \n",
    "                             +im2.dm3  \n",
    "                                 .  \n",
    "                                 .  \n",
    "                              0im.dm3  \n",
    "                              \n",
    "                   flsfile.fls \n",
    "                   full_align.tif  \n",
    "  \n",
    "If your flip and unflip filenames aren't the same you can also have two fls files, one for each tfs. In that case just change the argument in load_data:  ``flip_fls_file = \"flip/fls/path\"`` \n",
    "  \n",
    "However if you have just one stack (no flip stack) then your data should be in a folder labeled 'tfs' \n",
    "\n",
    "    datafolder/    tfs/      -im1.dm3  \n",
    "                             -im2.dm3  \n",
    "                                ...  \n",
    "                             +im1.dm3  \n",
    "                             +im2.dm3  \n",
    "                                ...  \n",
    "                              0im.dm3    \n",
    "                   flsfile.fls \n",
    "                   full_align.tif  \n",
    "                   \n",
    "The `full_align.tif` is a 3D tifstack of the aligned flipped and unflipped images. It is ordered from most underfocus to most overfocus, first unflipped then flipped images, e.g. for a 5 image series: \n",
    "\n",
    "\t\t\t\t[-2 , -1 , 0 , +1 , +2 , -2f , -1f , 0f , +1f , +2f]\n",
    "\n"
   ]
  },
  {
   "cell_type": "markdown",
   "metadata": {},
   "source": [
    "## The .fls file\n",
    "The fls file is a text file that makes it easier for the program to read a tfs of images. It contains, in order: \n",
    "\n",
    "- The number of images in the through focal series\n",
    "- Names of the images from most underfocus to most overfocus; the middle image should be the in-focus image. \n",
    "- The defocus values, which should be the same for both over and under focus. There should be $\\frac{\\text{#images} - 1}{2}$ total defocus values. \n",
    "\n",
    "For example, the fls file would be the following for a 5-image stack: \n",
    "\n",
    "    5\n",
    "    under2.dm3\n",
    "    under1.dm3\n",
    "    infocus.dm3\n",
    "    over1.dm3\n",
    "    over2.dm3\n",
    "    defocus_val_1\n",
    "    defocus_val_2\n",
    "    \n",
    "If you have only one tfs, then you will only have one fls file. If you have two tfs and the files are named differently, you will need two fls files. If the files are named symmetrically between the flip and unflip images, only one fls file is needed (as is the case in the example data). "
   ]
  }
 ],
 "metadata": {
  "kernelspec": {
   "display_name": "Python 3",
   "language": "python",
   "name": "python3"
  },
  "language_info": {
   "codemirror_mode": {
    "name": "ipython",
    "version": 3
   },
   "file_extension": ".py",
   "mimetype": "text/x-python",
   "name": "python",
   "nbconvert_exporter": "python",
   "pygments_lexer": "ipython3",
   "version": "3.7.6"
  },
  "varInspector": {
   "cols": {
    "lenName": 16,
    "lenType": 16,
    "lenVar": 40
   },
   "kernels_config": {
    "python": {
     "delete_cmd_postfix": "",
     "delete_cmd_prefix": "del ",
     "library": "var_list.py",
     "varRefreshCmd": "print(var_dic_list())"
    },
    "r": {
     "delete_cmd_postfix": ") ",
     "delete_cmd_prefix": "rm(",
     "library": "var_list.r",
     "varRefreshCmd": "cat(var_dic_list()) "
    }
   },
   "types_to_exclude": [
    "module",
    "function",
    "builtin_function_or_method",
    "instance",
    "_Feature"
   ],
   "window_display": false
  }
 },
 "nbformat": 4,
 "nbformat_minor": 4
}
